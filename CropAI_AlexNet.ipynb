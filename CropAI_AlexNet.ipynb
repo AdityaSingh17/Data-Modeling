{
 "cells": [
  {
   "cell_type": "markdown",
   "metadata": {},
   "source": [
    "# AlexNet"
   ]
  },
  {
   "cell_type": "markdown",
   "metadata": {},
   "source": [
    "## Import the required libraries and dependencies."
   ]
  },
  {
   "cell_type": "code",
   "execution_count": 1,
   "metadata": {},
   "outputs": [],
   "source": [
    "import numpy as np\n",
    "import cv2\n",
    "from os import listdir\n",
    "import tensorflow as tf\n",
    "import pickle\n",
    "from sklearn.preprocessing import LabelBinarizer, MultiLabelBinarizer\n",
    "from sklearn.model_selection import train_test_split\n",
    "from tensorflow.python.keras.models import Sequential\n",
    "from tensorflow.python.keras.layers.normalization import BatchNormalization\n",
    "from tensorflow.python.keras.layers.convolutional import Conv2D, MaxPooling2D\n",
    "from tensorflow.python.keras.layers.core import Activation, Flatten, Dropout, Dense, Reshape\n",
    "from tensorflow.python.keras.preprocessing.image import ImageDataGenerator\n",
    "from tensorflow.python.keras.preprocessing.image import img_to_array\n",
    "from tensorflow.python.keras.optimizers import Adam\n",
    "from tensorflow.python.keras.preprocessing import image\n",
    "from tensorflow.python.keras.callbacks import ModelCheckpoint, EarlyStopping\n",
    "from tensorflow.python.keras import regularizers\n",
    "import matplotlib.pyplot as plt\n",
    "\n",
    "%matplotlib inline"
   ]
  },
  {
   "cell_type": "code",
   "execution_count": 2,
   "metadata": {},
   "outputs": [],
   "source": [
    "# Initialize hyperparameters.\n",
    "EPOCHS = 15\n",
    "INIT_LR = 1e-4\n",
    "DECAY = 1e-6\n",
    "BS = 32\n",
    "default_image_size = tuple((256, 256))\n",
    "resized_image_size = tuple((224,224))\n",
    "image_size = 0\n",
    "directory_root = 'plantdisease'"
   ]
  },
  {
   "cell_type": "markdown",
   "metadata": {},
   "source": [
    "## Load the dataset for use."
   ]
  },
  {
   "cell_type": "code",
   "execution_count": 3,
   "metadata": {},
   "outputs": [],
   "source": [
    "# Function to convert image to array.\n",
    "def convert_image_to_array(image_dir):\n",
    "    try:\n",
    "        image = cv2.imread(image_dir)\n",
    "        if image is not None :\n",
    "            image = cv2.resize(image, resized_image_size)   \n",
    "            return img_to_array(image)\n",
    "        else :\n",
    "            return np.array([])\n",
    "    except Exception as e:\n",
    "        print(f\"Error : {e}\")\n",
    "        return None"
   ]
  },
  {
   "cell_type": "code",
   "execution_count": 4,
   "metadata": {},
   "outputs": [
    {
     "name": "stdout",
     "output_type": "stream",
     "text": [
      "[INFO] Loading images ...\n",
      "[INFO] Processing Tomato__Target_Spot ...\n",
      "[INFO] Processing Tomato_Septoria_leaf_spot ...\n",
      "[INFO] Processing Pepper__bell___Bacterial_spot ...\n",
      "[INFO] Processing Tomato_healthy ...\n",
      "[INFO] Processing Tomato_Early_blight ...\n",
      "[INFO] Processing Potato___Late_blight ...\n",
      "[INFO] Processing Potato___Early_blight ...\n",
      "[INFO] Processing Pepper__bell___healthy ...\n",
      "[INFO] Processing Tomato_Leaf_Mold ...\n",
      "[INFO] Processing Tomato_Bacterial_spot ...\n",
      "[INFO] Processing Tomato__Tomato_mosaic_virus ...\n",
      "[INFO] Processing Tomato__Tomato_YellowLeaf__Curl_Virus ...\n",
      "[INFO] Processing Tomato_Spider_mites_Two_spotted_spider_mite ...\n",
      "[INFO] Processing Tomato_Late_blight ...\n",
      "[INFO] Processing Potato___healthy ...\n",
      "[INFO] Processing PlantVillage ...\n",
      "[INFO] Image loading completed!\n"
     ]
    }
   ],
   "source": [
    "# Reading the images from the dataset folder.\n",
    "image_list, label_list = [], []\n",
    "try:\n",
    "    print(\"[INFO] Loading images ...\")\n",
    "    root_dir = listdir(directory_root)\n",
    "    for directory in root_dir :\n",
    "        # remove .DS_Store from list\n",
    "        if directory == \".DS_Store\" :\n",
    "            root_dir.remove(directory)\n",
    "\n",
    "    for plant_folder in root_dir :\n",
    "        plant_disease_folder_list = listdir(f\"{directory_root}/{plant_folder}\")\n",
    "        \n",
    "        for disease_folder in plant_disease_folder_list :\n",
    "            # remove .DS_Store from list\n",
    "            if disease_folder == \".DS_Store\" :\n",
    "                plant_disease_folder_list.remove(disease_folder)\n",
    "\n",
    "        for plant_disease_folder in plant_disease_folder_list:\n",
    "            print(f\"[INFO] Processing {plant_disease_folder} ...\")\n",
    "            plant_disease_image_list = listdir(f\"{directory_root}/{plant_folder}/{plant_disease_folder}/\")\n",
    "                \n",
    "            for single_plant_disease_image in plant_disease_image_list :\n",
    "                if single_plant_disease_image == \".DS_Store\" :\n",
    "                    plant_disease_image_list.remove(single_plant_disease_image)\n",
    "\n",
    "            for image in plant_disease_image_list[:200]:\n",
    "                image_directory = f\"{directory_root}/{plant_folder}/{plant_disease_folder}/{image}\"\n",
    "                if image_directory.endswith(\".jpg\") == True or image_directory.endswith(\".JPG\") == True:\n",
    "                    image_list.append(convert_image_to_array(image_directory))\n",
    "                    label_list.append(plant_disease_folder)\n",
    "    print(\"[INFO] Image loading completed!\")  \n",
    "except Exception as e:\n",
    "    print(f\"Error : {e}\")"
   ]
  },
  {
   "cell_type": "code",
   "execution_count": 5,
   "metadata": {},
   "outputs": [],
   "source": [
    "image_size = len(image_list)"
   ]
  },
  {
   "cell_type": "code",
   "execution_count": 6,
   "metadata": {
    "scrolled": true
   },
   "outputs": [],
   "source": [
    "# Assign the classes to images.\n",
    "label_binarizer = LabelBinarizer()\n",
    "image_labels = label_binarizer.fit_transform(label_list)\n",
    "n_classes = len(label_binarizer.classes_)"
   ]
  },
  {
   "cell_type": "code",
   "execution_count": 7,
   "metadata": {},
   "outputs": [
    {
     "name": "stdout",
     "output_type": "stream",
     "text": [
      "['Pepper__bell___Bacterial_spot' 'Pepper__bell___healthy'\n",
      " 'Potato___Early_blight' 'Potato___Late_blight' 'Potato___healthy'\n",
      " 'Tomato_Bacterial_spot' 'Tomato_Early_blight' 'Tomato_Late_blight'\n",
      " 'Tomato_Leaf_Mold' 'Tomato_Septoria_leaf_spot'\n",
      " 'Tomato_Spider_mites_Two_spotted_spider_mite' 'Tomato__Target_Spot'\n",
      " 'Tomato__Tomato_YellowLeaf__Curl_Virus' 'Tomato__Tomato_mosaic_virus'\n",
      " 'Tomato_healthy']\n"
     ]
    }
   ],
   "source": [
    "print(label_binarizer.classes_)"
   ]
  },
  {
   "cell_type": "code",
   "execution_count": 8,
   "metadata": {},
   "outputs": [],
   "source": [
    "# Convert the array to a NumPy list and normalise it.\n",
    "np_image_list = np.array(image_list, dtype = np.float16) / 223.0"
   ]
  },
  {
   "cell_type": "markdown",
   "metadata": {},
   "source": [
    "## Split the NumPy list into test and train set."
   ]
  },
  {
   "cell_type": "code",
   "execution_count": 9,
   "metadata": {},
   "outputs": [
    {
     "name": "stdout",
     "output_type": "stream",
     "text": [
      "[INFO] Spliting data into train set and test set ...\n",
      "[INFO] Spliting complete!\n"
     ]
    }
   ],
   "source": [
    "print(\"[INFO] Spliting data into train set and test set ...\")\n",
    "x_train, x_test, y_train, y_test = train_test_split(np_image_list, image_labels, test_size = 0.2, random_state = 42) \n",
    "print(\"[INFO] Spliting complete!\")"
   ]
  },
  {
   "cell_type": "markdown",
   "metadata": {},
   "source": [
    "## Initialize a Image Data Generator object."
   ]
  },
  {
   "cell_type": "code",
   "execution_count": 10,
   "metadata": {},
   "outputs": [],
   "source": [
    "aug = ImageDataGenerator(\n",
    "    rotation_range = 20,\n",
    "    width_shift_range = 0.2,\n",
    "    height_shift_range = 0.2,\n",
    "    shear_range = 0.2, \n",
    "    zoom_range = 0.2,\n",
    "    horizontal_flip = True, \n",
    "    fill_mode = \"nearest\")"
   ]
  },
  {
   "cell_type": "markdown",
   "metadata": {},
   "source": [
    "## Build an AlexNet."
   ]
  },
  {
   "cell_type": "code",
   "execution_count": 11,
   "metadata": {},
   "outputs": [
    {
     "name": "stdout",
     "output_type": "stream",
     "text": [
      "Model: \"sequential\"\n",
      "_________________________________________________________________\n",
      "Layer (type)                 Output Shape              Param #   \n",
      "=================================================================\n",
      "conv2d (Conv2D)              (None, 54, 54, 96)        34944     \n",
      "_________________________________________________________________\n",
      "activation (Activation)      (None, 54, 54, 96)        0         \n",
      "_________________________________________________________________\n",
      "batch_normalization (BatchNo (None, 54, 54, 96)        384       \n",
      "_________________________________________________________________\n",
      "max_pooling2d (MaxPooling2D) (None, 26, 26, 96)        0         \n",
      "_________________________________________________________________\n",
      "conv2d_1 (Conv2D)            (None, 26, 26, 256)       614656    \n",
      "_________________________________________________________________\n",
      "activation_1 (Activation)    (None, 26, 26, 256)       0         \n",
      "_________________________________________________________________\n",
      "batch_normalization_1 (Batch (None, 26, 26, 256)       1024      \n",
      "_________________________________________________________________\n",
      "max_pooling2d_1 (MaxPooling2 (None, 12, 12, 256)       0         \n",
      "_________________________________________________________________\n",
      "conv2d_2 (Conv2D)            (None, 12, 12, 384)       885120    \n",
      "_________________________________________________________________\n",
      "activation_2 (Activation)    (None, 12, 12, 384)       0         \n",
      "_________________________________________________________________\n",
      "batch_normalization_2 (Batch (None, 12, 12, 384)       1536      \n",
      "_________________________________________________________________\n",
      "dropout (Dropout)            (None, 12, 12, 384)       0         \n",
      "_________________________________________________________________\n",
      "conv2d_3 (Conv2D)            (None, 12, 12, 384)       1327488   \n",
      "_________________________________________________________________\n",
      "activation_3 (Activation)    (None, 12, 12, 384)       0         \n",
      "_________________________________________________________________\n",
      "batch_normalization_3 (Batch (None, 12, 12, 384)       1536      \n",
      "_________________________________________________________________\n",
      "dropout_1 (Dropout)          (None, 12, 12, 384)       0         \n",
      "_________________________________________________________________\n",
      "conv2d_4 (Conv2D)            (None, 12, 12, 256)       884992    \n",
      "_________________________________________________________________\n",
      "activation_4 (Activation)    (None, 12, 12, 256)       0         \n",
      "_________________________________________________________________\n",
      "batch_normalization_4 (Batch (None, 12, 12, 256)       1024      \n",
      "_________________________________________________________________\n",
      "max_pooling2d_2 (MaxPooling2 (None, 5, 5, 256)         0         \n",
      "_________________________________________________________________\n",
      "dropout_2 (Dropout)          (None, 5, 5, 256)         0         \n",
      "_________________________________________________________________\n",
      "flatten (Flatten)            (None, 6400)              0         \n",
      "_________________________________________________________________\n",
      "dense (Dense)                (None, 4096)              26218496  \n",
      "_________________________________________________________________\n",
      "activation_5 (Activation)    (None, 4096)              0         \n",
      "_________________________________________________________________\n",
      "dropout_3 (Dropout)          (None, 4096)              0         \n",
      "_________________________________________________________________\n",
      "batch_normalization_5 (Batch (None, 4096)              16384     \n",
      "_________________________________________________________________\n",
      "dense_1 (Dense)              (None, 4096)              16781312  \n",
      "_________________________________________________________________\n",
      "activation_6 (Activation)    (None, 4096)              0         \n",
      "_________________________________________________________________\n",
      "dropout_4 (Dropout)          (None, 4096)              0         \n",
      "_________________________________________________________________\n",
      "batch_normalization_6 (Batch (None, 4096)              16384     \n",
      "_________________________________________________________________\n",
      "dense_2 (Dense)              (None, 1000)              4097000   \n",
      "_________________________________________________________________\n",
      "activation_7 (Activation)    (None, 1000)              0         \n",
      "_________________________________________________________________\n",
      "dropout_5 (Dropout)          (None, 1000)              0         \n",
      "_________________________________________________________________\n",
      "batch_normalization_7 (Batch (None, 1000)              4000      \n",
      "_________________________________________________________________\n",
      "dense_3 (Dense)              (None, 15)                15015     \n",
      "_________________________________________________________________\n",
      "activation_8 (Activation)    (None, 15)                0         \n",
      "=================================================================\n",
      "Total params: 50,901,295\n",
      "Trainable params: 50,880,159\n",
      "Non-trainable params: 21,136\n",
      "_________________________________________________________________\n"
     ]
    }
   ],
   "source": [
    "# Initialize the model.\n",
    "model = Sequential()\n",
    "          \n",
    "# 1st Convolutional Layer\n",
    "model.add(Conv2D(filters = 96, input_shape = (224,224,3), kernel_size = (11,11), strides = (4,4), padding = 'valid'))\n",
    "model.add(Activation('relu'))\n",
    "# Batch Normalisation before passing it to the next layer\n",
    "model.add(BatchNormalization())\n",
    "# Pooling Layer\n",
    "model.add(MaxPooling2D(pool_size = (3,3), strides = (2,2), padding = 'valid'))\n",
    "\n",
    "# 2nd Convolutional Layer\n",
    "model.add(Conv2D(filters = 256, kernel_size = (5,5), strides = (1,1), padding = 'same'))\n",
    "model.add(Activation('relu'))\n",
    "# Batch Normalisation\n",
    "model.add(BatchNormalization())\n",
    "# Pooling Layer\n",
    "model.add(MaxPooling2D(pool_size = (3,3), strides = (2,2), padding = 'valid'))\n",
    "\n",
    "# 3rd Convolutional Layer\n",
    "model.add(Conv2D(filters = 384, kernel_size = (3,3), strides = (1,1), padding = 'same'))\n",
    "model.add(Activation('relu'))\n",
    "# Batch Normalisation\n",
    "model.add(BatchNormalization())\n",
    "# Dropout\n",
    "model.add(Dropout(0.5))\n",
    "\n",
    "# 4th Convolutional Layer\n",
    "model.add(Conv2D(filters = 384, kernel_size = (3,3), strides = (1,1), padding = 'same'))\n",
    "model.add(Activation('relu'))\n",
    "# Batch Normalisation\n",
    "model.add(BatchNormalization())\n",
    "# Dropout\n",
    "model.add(Dropout(0.5))\n",
    "\n",
    "# 5th Convolutional Layer\n",
    "model.add(Conv2D(filters = 256, kernel_size = (3,3), strides = (1,1), padding = 'same'))\n",
    "model.add(Activation('relu'))\n",
    "# Batch Normalisation\n",
    "model.add(BatchNormalization())\n",
    "# Pooling Layer\n",
    "model.add(MaxPooling2D(pool_size = (3,3), strides = (2,2), padding = 'valid'))\n",
    "# Dropout\n",
    "model.add(Dropout(0.5))\n",
    "\n",
    "# Passing it to a dense layer\n",
    "model.add(Flatten())\n",
    "\n",
    "# 1st Dense Layer\n",
    "model.add(Dense(4096, input_shape = (224*224*3,)))\n",
    "model.add(Activation('relu'))\n",
    "# Add Dropout to prevent overfitting\n",
    "model.add(Dropout(0.25))\n",
    "# Batch Normalisation\n",
    "model.add(BatchNormalization())\n",
    "\n",
    "# 2nd Dense Layer\n",
    "model.add(Dense(4096))\n",
    "model.add(Activation('relu'))\n",
    "# Add Dropout\n",
    "model.add(Dropout(0.5))\n",
    "# Batch Normalisation\n",
    "model.add(BatchNormalization())\n",
    "\n",
    "# 3rd Dense Layer\n",
    "model.add(Dense(1000))\n",
    "model.add(Activation('relu'))\n",
    "# Add Dropout\n",
    "model.add(Dropout(0.5))\n",
    "# Batch Normalisation\n",
    "model.add(BatchNormalization())\n",
    "\n",
    "# Output Layer\n",
    "model.add(Dense(n_classes))\n",
    "model.add(Activation('softmax'))\n",
    "\n",
    "# Get the model summary.\n",
    "model.summary()"
   ]
  },
  {
   "cell_type": "markdown",
   "metadata": {},
   "source": [
    "## Compile the model."
   ]
  },
  {
   "cell_type": "code",
   "execution_count": 12,
   "metadata": {},
   "outputs": [
    {
     "name": "stdout",
     "output_type": "stream",
     "text": [
      "[INFO] Training network...\n",
      "WARNING:tensorflow:`period` argument is deprecated. Please use `save_freq` to specify the frequency in number of samples seen.\n",
      "WARNING:tensorflow:From <ipython-input-12-7d0eb671e01f>:15: Model.fit_generator (from tensorflow.python.keras.engine.training) is deprecated and will be removed in a future version.\n",
      "Instructions for updating:\n",
      "Please use Model.fit, which supports generators.\n",
      "WARNING:tensorflow:sample_weight modes were coerced from\n",
      "  ...\n",
      "    to  \n",
      "  ['...']\n",
      "Train for 73 steps, validate on 591 samples\n",
      "Epoch 1/15\n",
      "72/73 [============================>.] - ETA: 0s - loss: 0.2917 - accuracy: 0.9247\n",
      "Epoch 00001: accuracy improved from -inf to 0.92471, saving model to AlexNet.h5\n",
      "73/73 [==============================] - 72s 993ms/step - loss: 0.2916 - accuracy: 0.9247 - val_loss: 0.3336 - val_accuracy: 0.9333\n",
      "Epoch 2/15\n",
      "72/73 [============================>.] - ETA: 0s - loss: 0.2689 - accuracy: 0.9234\n",
      "Epoch 00002: accuracy did not improve from 0.92471\n",
      "73/73 [==============================] - 73s 1s/step - loss: 0.2688 - accuracy: 0.9234 - val_loss: 0.4554 - val_accuracy: 0.8746\n",
      "Epoch 3/15\n",
      "72/73 [============================>.] - ETA: 0s - loss: 0.2535 - accuracy: 0.9247\n",
      "Epoch 00003: accuracy did not improve from 0.92471\n",
      "73/73 [==============================] - 69s 946ms/step - loss: 0.2537 - accuracy: 0.9247 - val_loss: 0.6343 - val_accuracy: 0.8746\n",
      "Epoch 4/15\n",
      "72/73 [============================>.] - ETA: 0s - loss: 0.2485 - accuracy: 0.9248\n",
      "Epoch 00004: accuracy improved from 0.92471 to 0.92486, saving model to AlexNet.h5\n",
      "73/73 [==============================] - 73s 1s/step - loss: 0.2482 - accuracy: 0.9249 - val_loss: 0.8518 - val_accuracy: 0.8747\n",
      "Epoch 5/15\n",
      "72/73 [============================>.] - ETA: 0s - loss: 0.2346 - accuracy: 0.9286\n",
      "Epoch 00005: accuracy improved from 0.92486 to 0.92861, saving model to AlexNet.h5\n",
      "73/73 [==============================] - 75s 1s/step - loss: 0.2346 - accuracy: 0.9286 - val_loss: 0.9563 - val_accuracy: 0.8747\n",
      "Epoch 6/15\n",
      "72/73 [============================>.] - ETA: 0s - loss: 0.2292 - accuracy: 0.9283\n",
      "Epoch 00006: accuracy did not improve from 0.92861\n",
      "73/73 [==============================] - 69s 951ms/step - loss: 0.2290 - accuracy: 0.9284 - val_loss: 0.7923 - val_accuracy: 0.8777\n",
      "Epoch 7/15\n",
      "72/73 [============================>.] - ETA: 0s - loss: 0.2108 - accuracy: 0.9311\n",
      "Epoch 00007: accuracy improved from 0.92861 to 0.93096, saving model to AlexNet.h5\n",
      "73/73 [==============================] - 73s 1s/step - loss: 0.2107 - accuracy: 0.9310 - val_loss: 0.6598 - val_accuracy: 0.8897\n",
      "Epoch 8/15\n",
      "72/73 [============================>.] - ETA: 0s - loss: 0.2003 - accuracy: 0.9339\n",
      "Epoch 00008: accuracy improved from 0.93096 to 0.93379, saving model to AlexNet.h5\n",
      "73/73 [==============================] - 76s 1s/step - loss: 0.2000 - accuracy: 0.9338 - val_loss: 0.5534 - val_accuracy: 0.8888\n",
      "Epoch 9/15\n",
      "72/73 [============================>.] - ETA: 0s - loss: 0.1887 - accuracy: 0.9357\n",
      "Epoch 00009: accuracy improved from 0.93379 to 0.93580, saving model to AlexNet.h5\n",
      "73/73 [==============================] - 76s 1s/step - loss: 0.1883 - accuracy: 0.9358 - val_loss: 0.6020 - val_accuracy: 0.8906\n",
      "Epoch 10/15\n",
      "72/73 [============================>.] - ETA: 0s - loss: 0.1823 - accuracy: 0.9380\n",
      "Epoch 00010: accuracy improved from 0.93580 to 0.93826, saving model to AlexNet.h5\n",
      "73/73 [==============================] - 75s 1s/step - loss: 0.1818 - accuracy: 0.9383 - val_loss: 0.4066 - val_accuracy: 0.9093\n",
      "Epoch 11/15\n",
      "72/73 [============================>.] - ETA: 0s - loss: 0.1764 - accuracy: 0.9395\n",
      "Epoch 00011: accuracy improved from 0.93826 to 0.93955, saving model to AlexNet.h5\n",
      "73/73 [==============================] - 75s 1s/step - loss: 0.1764 - accuracy: 0.9395 - val_loss: 0.4352 - val_accuracy: 0.8989\n",
      "Epoch 12/15\n",
      "72/73 [============================>.] - ETA: 0s - loss: 0.1691 - accuracy: 0.9400\n",
      "Epoch 00012: accuracy improved from 0.93955 to 0.94024, saving model to AlexNet.h5\n",
      "73/73 [==============================] - 77s 1s/step - loss: 0.1685 - accuracy: 0.9402 - val_loss: 0.8003 - val_accuracy: 0.8823\n",
      "Epoch 13/15\n",
      "72/73 [============================>.] - ETA: 0s - loss: 0.1614 - accuracy: 0.9428\n",
      "Epoch 00013: accuracy improved from 0.94024 to 0.94287, saving model to AlexNet.h5\n",
      "73/73 [==============================] - 77s 1s/step - loss: 0.1610 - accuracy: 0.9429 - val_loss: 0.5300 - val_accuracy: 0.8959\n",
      "Epoch 14/15\n",
      "72/73 [============================>.] - ETA: 0s - loss: 0.1616 - accuracy: 0.9432\n",
      "Epoch 00014: accuracy improved from 0.94287 to 0.94341, saving model to AlexNet.h5\n",
      "73/73 [==============================] - 74s 1s/step - loss: 0.1611 - accuracy: 0.9434 - val_loss: 0.3667 - val_accuracy: 0.9116\n",
      "Epoch 15/15\n",
      "72/73 [============================>.] - ETA: 0s - loss: 0.1467 - accuracy: 0.9479\n",
      "Epoch 00015: accuracy improved from 0.94341 to 0.94762, saving model to AlexNet.h5\n",
      "73/73 [==============================] - 73s 1s/step - loss: 0.1474 - accuracy: 0.9476 - val_loss: 0.3900 - val_accuracy: 0.9093\n"
     ]
    }
   ],
   "source": [
    "# Compile \n",
    "opt = tf.keras.optimizers.Adam(lr = INIT_LR, decay = DECAY)\n",
    "model.compile(loss=\"binary_crossentropy\", optimizer = opt,metrics = [\"accuracy\"])\n",
    "print(\"[INFO] Training network...\")\n",
    "\n",
    "# Train\n",
    "checkpoint = ModelCheckpoint(\"AlexNet.h5\", monitor = 'accuracy', verbose = 1, save_best_only = True, save_weights_only = False, mode = 'auto', period = 1)\n",
    "\n",
    "history = model.fit_generator(\n",
    "    aug.flow(x_train, y_train, batch_size = BS, shuffle = False),\n",
    "    validation_data = (x_test, y_test),\n",
    "    steps_per_epoch = len(x_train) // BS,\n",
    "    callbacks = [checkpoint],\n",
    "    epochs = EPOCHS,\n",
    "    verbose=1 )"
   ]
  },
  {
   "cell_type": "markdown",
   "metadata": {},
   "source": [
    "## Plot the accuracy and loss curves.\n",
    "This is done to identify if the model is performing well or is overfitting/underfitting the dataset."
   ]
  },
  {
   "cell_type": "code",
   "execution_count": 13,
   "metadata": {},
   "outputs": [
    {
     "data": {
      "image/png": "[encoded data removed]",
      "text/plain": [
       "<Figure size 432x288 with 1 Axes>"
      ]
     },
     "metadata": {
      "needs_background": "light"
     },
     "output_type": "display_data"
    },
    {
     "data": {
      "image/png": "[encoded data removed]",
      "text/plain": [
       "<Figure size 432x288 with 1 Axes>"
      ]
     },
     "metadata": {
      "needs_background": "light"
     },
     "output_type": "display_data"
    }
   ],
   "source": [
    "import matplotlib.pyplot as plt\n",
    "xmin = 0\n",
    "xmax = 15\n",
    "ymin = 0.0\n",
    "ymax = 1.0\n",
    "acc = history.history['accuracy']\n",
    "val_acc = history.history['val_accuracy']\n",
    "loss = history.history['loss']\n",
    "val_loss = history.history['val_loss']\n",
    "\n",
    "epochs = range(len(acc))\n",
    "\n",
    "axes = plt.gca()\n",
    "axes.set_xlim([xmin,xmax])\n",
    "axes.set_ylim([ymin,ymax])\n",
    "\n",
    "plt.plot(epochs, acc, 'r', label = 'Training accuracy')\n",
    "plt.plot(epochs, val_acc, 'b', label = 'Validation accuracy')\n",
    "plt.title('Training and validation accuracy')\n",
    "plt.legend()\n",
    "plt.figure()\n",
    "\n",
    "plt.plot(epochs, loss, 'r', label = 'Training Loss')\n",
    "plt.plot(epochs, val_loss, 'b', label = 'Validation Loss')\n",
    "plt.title('Training and validation loss')\n",
    "plt.legend()\n",
    "\n",
    "plt.show()"
   ]
  },
  {
   "cell_type": "markdown",
   "metadata": {},
   "source": [
    "## Calculate model accuracy."
   ]
  },
  {
   "cell_type": "code",
   "execution_count": 14,
   "metadata": {},
   "outputs": [
    {
     "name": "stdout",
     "output_type": "stream",
     "text": [
      "[INFO] Calculating model accuracy\n",
      "591/591 [==============================] - 3s 5ms/sample - loss: 0.3900 - accuracy: 0.9093\n",
      "Test Accuracy: 90.9306287765503\n"
     ]
    }
   ],
   "source": [
    "print(\"[INFO] Calculating model accuracy\")\n",
    "scores = model.evaluate(x_test, y_test)\n",
    "print(f\"Test Accuracy: {scores[1]*100}\")"
   ]
  },
  {
   "cell_type": "markdown",
   "metadata": {},
   "source": [
    "## Save the model to disk."
   ]
  },
  {
   "cell_type": "code",
   "execution_count": 15,
   "metadata": {},
   "outputs": [
    {
     "name": "stdout",
     "output_type": "stream",
     "text": [
      "[INFO] Saving model...\n",
      "[INFO] Saved model to disk!\n"
     ]
    }
   ],
   "source": [
    "print(\"[INFO] Saving model...\")\n",
    "model.save(\"Model_AlexNet.h5\")\n",
    "print(\"[INFO] Saved model to disk!\")"
   ]
  }
 ],
 "metadata": {
  "kernelspec": {
   "display_name": "Python 3",
   "language": "python",
   "name": "python3"
  },
  "language_info": {
   "codemirror_mode": {
    "name": "ipython",
    "version": 3
   },
   "file_extension": ".py",
   "mimetype": "text/x-python",
   "name": "python",
   "nbconvert_exporter": "python",
   "pygments_lexer": "ipython3",
   "version": "3.6.9"
  }
 },
 "nbformat": 4,
 "nbformat_minor": 2
}
